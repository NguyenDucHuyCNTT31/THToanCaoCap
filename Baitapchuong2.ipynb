{
  "nbformat": 4,
  "nbformat_minor": 0,
  "metadata": {
    "colab": {
      "name": "Baitapchuong2.ipynb",
      "provenance": [],
      "authorship_tag": "ABX9TyOBjfv1LzhL2SH5Jyp72xdo",
      "include_colab_link": true
    },
    "kernelspec": {
      "name": "python3",
      "display_name": "Python 3"
    },
    "language_info": {
      "name": "python"
    }
  },
  "cells": [
    {
      "cell_type": "markdown",
      "metadata": {
        "id": "view-in-github",
        "colab_type": "text"
      },
      "source": [
        "<a href=\"https://colab.research.google.com/github/NguyenDucHuyCNTT31/THToanCaoCap/blob/main/Baitapchuong2.ipynb\" target=\"_parent\"><img src=\"https://colab.research.google.com/assets/colab-badge.svg\" alt=\"Open In Colab\"/></a>"
      ]
    },
    {
      "cell_type": "markdown",
      "source": [
        "Bài 1 "
      ],
      "metadata": {
        "id": "Y-2c5dQRtORZ"
      }
    },
    {
      "cell_type": "code",
      "source": [
        "chuoi = \" a*b + 2*c\"\n",
        "a = 2\n",
        "b = 5\n",
        "c= 10\n",
        "eval(chuoi)"
      ],
      "metadata": {
        "colab": {
          "base_uri": "https://localhost:8080/"
        },
        "id": "WZ8qc6cLtQwU",
        "outputId": "b10d5a82-bde0-4135-bf73-943ff9676105"
      },
      "execution_count": null,
      "outputs": [
        {
          "output_type": "execute_result",
          "data": {
            "text/plain": [
              "30"
            ]
          },
          "metadata": {},
          "execution_count": 2
        }
      ]
    },
    {
      "cell_type": "markdown",
      "source": [
        "bài 2 "
      ],
      "metadata": {
        "id": "cN_lg72534p2"
      }
    },
    {
      "cell_type": "markdown",
      "source": [
        "a) "
      ],
      "metadata": {
        "id": "Pm-xWTXZ5R4-"
      }
    },
    {
      "cell_type": "code",
      "source": [
        "from sympy import Symbol\n",
        "x = Symbol ('x ')\n",
        "y = Symbol ('y')\n",
        "bieuthuc = x +y \n",
        "theso = bieuthuc.subs({x: 5, y: 10 })"
      ],
      "metadata": {
        "id": "7r_BopJ736F4"
      },
      "execution_count": null,
      "outputs": []
    },
    {
      "cell_type": "code",
      "source": [
        "theso "
      ],
      "metadata": {
        "colab": {
          "base_uri": "https://localhost:8080/",
          "height": 38
        },
        "id": "bIBwfc1v5M0n",
        "outputId": "c3bdb91d-3644-4729-e9fe-682188250bc0"
      },
      "execution_count": null,
      "outputs": [
        {
          "output_type": "execute_result",
          "data": {
            "text/latex": "$\\displaystyle 15$",
            "text/plain": [
              "15"
            ]
          },
          "metadata": {},
          "execution_count": 10
        }
      ]
    },
    {
      "cell_type": "markdown",
      "source": [
        "b) \n"
      ],
      "metadata": {
        "id": "4XY0n1LT5T1o"
      }
    },
    {
      "cell_type": "code",
      "source": [
        "u = Symbol ('u')\n",
        "v = Symbol (' v')\n",
        "bieuthuc_uv = bieuthuc.subs({x:u,y:v})"
      ],
      "metadata": {
        "id": "qaHUw4Bv5VbE"
      },
      "execution_count": null,
      "outputs": []
    },
    {
      "cell_type": "code",
      "source": [
        "bieuthuc_uv "
      ],
      "metadata": {
        "colab": {
          "base_uri": "https://localhost:8080/",
          "height": 39
        },
        "id": "BkaoNREO5nyt",
        "outputId": "a9838dde-9801-409b-8370-0fdcfbd50cb8"
      },
      "execution_count": null,
      "outputs": [
        {
          "output_type": "execute_result",
          "data": {
            "text/latex": "$\\displaystyle  v + u$",
            "text/plain": [
              " v + u"
            ]
          },
          "metadata": {},
          "execution_count": 12
        }
      ]
    },
    {
      "cell_type": "markdown",
      "source": [
        "c) "
      ],
      "metadata": {
        "id": "DEIMGD0R5rKy"
      }
    },
    {
      "cell_type": "code",
      "source": [
        "tinhtoan=bieuthuc.subs({x: 2*u*v, y: u*v**2})\n",
        "tinhtoan "
      ],
      "metadata": {
        "colab": {
          "base_uri": "https://localhost:8080/",
          "height": 39
        },
        "id": "Diru8cgn5s9g",
        "outputId": "99c06946-d69a-4427-c16b-4669818d126f"
      },
      "execution_count": null,
      "outputs": [
        {
          "output_type": "execute_result",
          "data": {
            "text/latex": "$\\displaystyle  v^{2} u + 2  v u$",
            "text/plain": [
              " v**2*u + 2* v*u"
            ]
          },
          "metadata": {},
          "execution_count": 13
        }
      ]
    },
    {
      "cell_type": "code",
      "source": [
        "tinhtoan.factor()"
      ],
      "metadata": {
        "colab": {
          "base_uri": "https://localhost:8080/",
          "height": 39
        },
        "id": "tfLo-1XR6GB4",
        "outputId": "75ef4b8d-09e1-4e21-d131-58f513e60ca1"
      },
      "execution_count": null,
      "outputs": [
        {
          "output_type": "execute_result",
          "data": {
            "text/latex": "$\\displaystyle  v u \\left( v + 2\\right)$",
            "text/plain": [
              " v*u*( v + 2)"
            ]
          },
          "metadata": {},
          "execution_count": 14
        }
      ]
    },
    {
      "cell_type": "markdown",
      "source": [
        "d)"
      ],
      "metadata": {
        "id": "KJclSsLU6PnJ"
      }
    },
    {
      "cell_type": "code",
      "source": [
        "from sympy import Symbol \n",
        "x = Symbol ('x')\n",
        "y = Symbol ('y')\n",
        "bieuthuc= x + y\n",
        "bieuthuc1= x**2 + y**2 \n",
        "u = Symbol ('u')\n",
        "v = Symbol('v')\n",
        "a = Symbol ('a')\n",
        "from sympy import sin, cos\n",
        "bieuthuc_uv = bieuthuc1.subs({x: a*sin(u), y: a*cos(u)})\n",
        "bieuthuc_uv "
      ],
      "metadata": {
        "colab": {
          "base_uri": "https://localhost:8080/",
          "height": 39
        },
        "id": "CHlsPdQ36Qld",
        "outputId": "692b097f-3485-4368-8ea8-c60ad0f34d14"
      },
      "execution_count": null,
      "outputs": [
        {
          "output_type": "execute_result",
          "data": {
            "text/latex": "$\\displaystyle a^{2} \\sin^{2}{\\left(u \\right)} + a^{2} \\cos^{2}{\\left(u \\right)}$",
            "text/plain": [
              "a**2*sin(u)**2 + a**2*cos(u)**2"
            ]
          },
          "metadata": {},
          "execution_count": 16
        }
      ]
    },
    {
      "cell_type": "code",
      "source": [
        "bieuthuc_uv.simplify()"
      ],
      "metadata": {
        "colab": {
          "base_uri": "https://localhost:8080/",
          "height": 39
        },
        "id": "oJNN78wq7RB9",
        "outputId": "34a0437b-acd5-41b3-a6e7-22d0971d3599"
      },
      "execution_count": null,
      "outputs": [
        {
          "output_type": "execute_result",
          "data": {
            "text/latex": "$\\displaystyle a^{2}$",
            "text/plain": [
              "a**2"
            ]
          },
          "metadata": {},
          "execution_count": 17
        }
      ]
    },
    {
      "cell_type": "markdown",
      "source": [
        "Vẽ biểu đồ với Matplotlib "
      ],
      "metadata": {
        "id": "cuBGyL577azU"
      }
    },
    {
      "cell_type": "markdown",
      "source": [
        "Bài 3 "
      ],
      "metadata": {
        "id": "duA76XLC7zaF"
      }
    },
    {
      "cell_type": "code",
      "source": [
        "danhsach  = [ 1,2,3,4,5]\n",
        "danhsach[ 1 ]"
      ],
      "metadata": {
        "colab": {
          "base_uri": "https://localhost:8080/"
        },
        "id": "YOeWILU071gp",
        "outputId": "9478676f-fb30-4105-eeb7-05c6cea95390"
      },
      "execution_count": null,
      "outputs": [
        {
          "output_type": "execute_result",
          "data": {
            "text/plain": [
              "2"
            ]
          },
          "metadata": {},
          "execution_count": 20
        }
      ]
    },
    {
      "cell_type": "code",
      "source": [
        "danhsach.append(10 )\n",
        "danhsach "
      ],
      "metadata": {
        "colab": {
          "base_uri": "https://localhost:8080/"
        },
        "id": "s69amseV8MNN",
        "outputId": "381e3086-a9f5-41c9-cbf4-a08fa4558f34"
      },
      "execution_count": null,
      "outputs": [
        {
          "output_type": "execute_result",
          "data": {
            "text/plain": [
              "[1, 2, 3, 4, 5, 10]"
            ]
          },
          "metadata": {},
          "execution_count": 21
        }
      ]
    },
    {
      "cell_type": "code",
      "source": [
        "danhsach.insert(0,15 )\n",
        "danhsach "
      ],
      "metadata": {
        "colab": {
          "base_uri": "https://localhost:8080/"
        },
        "id": "s77WFSKP8TPi",
        "outputId": "d5c43277-45cc-4fa8-97f4-17fb564d55b2"
      },
      "execution_count": null,
      "outputs": [
        {
          "output_type": "execute_result",
          "data": {
            "text/plain": [
              "[15, 1, 2, 3, 4, 5, 10]"
            ]
          },
          "metadata": {},
          "execution_count": 22
        }
      ]
    },
    {
      "cell_type": "code",
      "source": [
        "danhsach.pop(0 )\n",
        "danhsach "
      ],
      "metadata": {
        "colab": {
          "base_uri": "https://localhost:8080/"
        },
        "id": "23LX6wCB8eRh",
        "outputId": "061f60c9-7c03-4124-93a0-473a8bb9d962"
      },
      "execution_count": null,
      "outputs": [
        {
          "output_type": "execute_result",
          "data": {
            "text/plain": [
              "[1, 2, 3, 4, 5, 10]"
            ]
          },
          "metadata": {},
          "execution_count": 23
        }
      ]
    },
    {
      "cell_type": "markdown",
      "source": [
        "bài 4 "
      ],
      "metadata": {
        "id": "BmrKnPYH8m-x"
      }
    },
    {
      "cell_type": "code",
      "source": [
        "danhsach=[5,10,15,11,2020]\n",
        "for ch in danhsach:\n",
        "  print(ch )"
      ],
      "metadata": {
        "colab": {
          "base_uri": "https://localhost:8080/"
        },
        "id": "-V4ymw1g8oFC",
        "outputId": "c3dd8d51-c4aa-4c3d-9f3c-184756c7fb04"
      },
      "execution_count": null,
      "outputs": [
        {
          "output_type": "stream",
          "name": "stdout",
          "text": [
            "5\n",
            "10\n",
            "15\n",
            "11\n",
            "2020\n"
          ]
        }
      ]
    },
    {
      "cell_type": "code",
      "source": [
        "for chiso, giatri in enumerate (danhsach):\n",
        "  print(chiso,':', giatri )"
      ],
      "metadata": {
        "colab": {
          "base_uri": "https://localhost:8080/"
        },
        "id": "SQjWWZJU9dkN",
        "outputId": "66057c39-5a6d-4253-e427-1071d16811bf"
      },
      "execution_count": null,
      "outputs": [
        {
          "output_type": "stream",
          "name": "stdout",
          "text": [
            "0 : 5\n",
            "1 : 10\n",
            "2 : 15\n",
            "3 : 11\n",
            "4 : 2020\n"
          ]
        }
      ]
    },
    {
      "cell_type": "markdown",
      "source": [
        "Bài 5 "
      ],
      "metadata": {
        "id": "E4jCh_PV-Cw_"
      }
    },
    {
      "cell_type": "code",
      "source": [
        "giatri_x = [ 2,4,6,8 ]\n",
        "giatri_y = [1, 5, 7, 9]\n",
        "from pylab import plot, show\n",
        "plot(giatri_x , giatri_y )\n",
        "show( )"
      ],
      "metadata": {
        "colab": {
          "base_uri": "https://localhost:8080/",
          "height": 265
        },
        "id": "jXlfC6bQ-Eip",
        "outputId": "40c21426-4df1-406f-ef79-715d06c40162"
      },
      "execution_count": null,
      "outputs": [
        {
          "output_type": "display_data",
          "data": {
            "image/png": "[encoded data removed]",
            "text/plain": [
              "<Figure size 432x288 with 1 Axes>"
            ]
          },
          "metadata": {
            "needs_background": "light"
          }
        }
      ]
    },
    {
      "cell_type": "markdown",
      "source": [
        "Bài 6 "
      ],
      "metadata": {
        "id": "Ay3SSyRL-t-1"
      }
    },
    {
      "cell_type": "code",
      "source": [
        "giatri_x = [ 2,4,6,8 ]\n",
        "giatri_y = [1, 5, 7, 9]\n",
        "from pylab import plot, show \n",
        "plot (giatri_x , giatri_y, marker='o')"
      ],
      "metadata": {
        "id": "WDA4QPUM-vLu",
        "outputId": "66173260-86a5-400c-bf9c-7121d3f17ad3",
        "colab": {
          "base_uri": "https://localhost:8080/",
          "height": 282
        }
      },
      "execution_count": null,
      "outputs": [
        {
          "output_type": "execute_result",
          "data": {
            "text/plain": [
              "[<matplotlib.lines.Line2D at 0x7fc7b581c510>]"
            ]
          },
          "metadata": {},
          "execution_count": 1
        },
        {
          "output_type": "display_data",
          "data": {
            "image/png": "[encoded data removed]",
            "text/plain": [
              "<Figure size 432x288 with 1 Axes>"
            ]
          },
          "metadata": {
            "needs_background": "light"
          }
        }
      ]
    },
    {
      "cell_type": "markdown",
      "source": [
        "Bài 7 "
      ],
      "metadata": {
        "id": "8eitTP0EDzwB"
      }
    },
    {
      "cell_type": "code",
      "source": [
        "luongmua = [13.8,4.1,10.5, 50.4, 218.4, 311.7, 293.7, 269.8, 327.1, 266.7, 116.5, 48.3]\n",
        "thang= range(1,13)\n",
        "from pylab import show, plot\n",
        "plot(thang, luongmua, marker='o') \n",
        "show()"
      ],
      "metadata": {
        "id": "rw00nTE2D1CG",
        "outputId": "83e179e7-cc24-4a89-c490-56d8847fdb60",
        "colab": {
          "base_uri": "https://localhost:8080/",
          "height": 265
        }
      },
      "execution_count": null,
      "outputs": [
        {
          "output_type": "display_data",
          "data": {
            "image/png": "[encoded data removed]",
            "text/plain": [
              "<Figure size 432x288 with 1 Axes>"
            ]
          },
          "metadata": {
            "needs_background": "light"
          }
        }
      ]
    },
    {
      "cell_type": "markdown",
      "source": [
        "BÀi 8"
      ],
      "metadata": {
        "id": "MDSH5T7yLw_z"
      }
    },
    {
      "cell_type": "code",
      "source": [
        "from sympy import Symbol, Derivative  \n",
        "t = Symbol('t')\n",
        "st= 5*t**2 + 2*t + 8 \n",
        "st "
      ],
      "metadata": {
        "id": "TosstLc-L0FM",
        "outputId": "2219c6e5-3cfa-4402-dccc-36527f20b4b0",
        "colab": {
          "base_uri": "https://localhost:8080/",
          "height": 39
        }
      },
      "execution_count": 1,
      "outputs": [
        {
          "output_type": "execute_result",
          "data": {
            "text/latex": "$\\displaystyle 5 t^{2} + 2 t + 8$",
            "text/plain": [
              "5*t**2 + 2*t + 8"
            ]
          },
          "metadata": {},
          "execution_count": 1
        }
      ]
    },
    {
      "cell_type": "code",
      "source": [
        "Derivative(st ,t )"
      ],
      "metadata": {
        "id": "3I4atIQoSPJW",
        "outputId": "60cd6913-9883-4222-f65c-a2a54d692f36",
        "colab": {
          "base_uri": "https://localhost:8080/",
          "height": 52
        }
      },
      "execution_count": 3,
      "outputs": [
        {
          "output_type": "execute_result",
          "data": {
            "text/latex": "$\\displaystyle \\frac{d}{d t} \\left(5 t^{2} + 2 t + 8\\right)$",
            "text/plain": [
              "Derivative(5*t**2 + 2*t + 8, t)"
            ]
          },
          "metadata": {},
          "execution_count": 3
        }
      ]
    },
    {
      "cell_type": "code",
      "source": [
        "d = Derivative(st,t)\n",
        "d.doit()"
      ],
      "metadata": {
        "id": "a0zFw3mWSY5d",
        "outputId": "eae7c105-b8e8-4d71-84e7-0a51fe98f7b5",
        "colab": {
          "base_uri": "https://localhost:8080/",
          "height": 39
        }
      },
      "execution_count": 29,
      "outputs": [
        {
          "output_type": "execute_result",
          "data": {
            "text/latex": "$\\displaystyle 10 t + 2$",
            "text/plain": [
              "10*t + 2"
            ]
          },
          "metadata": {},
          "execution_count": 29
        }
      ]
    },
    {
      "cell_type": "code",
      "source": [
        "c= d.doit().subs({t:2})\n",
        "c "
      ],
      "metadata": {
        "id": "MH56Fdf9S8Bp",
        "outputId": "ff541513-a60c-4ff3-e390-006561074675",
        "colab": {
          "base_uri": "https://localhost:8080/",
          "height": 38
        }
      },
      "execution_count": 9,
      "outputs": [
        {
          "output_type": "execute_result",
          "data": {
            "text/latex": "$\\displaystyle 22$",
            "text/plain": [
              "22"
            ]
          },
          "metadata": {},
          "execution_count": 9
        }
      ]
    },
    {
      "cell_type": "code",
      "source": [
        "t1= Symbol('t1')\n",
        "t1=10 "
      ],
      "metadata": {
        "id": "RvvhxaUATUom"
      },
      "execution_count": 10,
      "outputs": []
    },
    {
      "cell_type": "code",
      "source": [
        "c = d.doit().subs({t:t1})\n",
        "c "
      ],
      "metadata": {
        "id": "SZ7ywxudTbex",
        "outputId": "a3515946-cafd-4aed-8004-437934f7da47",
        "colab": {
          "base_uri": "https://localhost:8080/",
          "height": 38
        }
      },
      "execution_count": 11,
      "outputs": [
        {
          "output_type": "execute_result",
          "data": {
            "text/latex": "$\\displaystyle 102$",
            "text/plain": [
              "102"
            ]
          },
          "metadata": {},
          "execution_count": 11
        }
      ]
    },
    {
      "cell_type": "markdown",
      "source": [
        "Bài 9 "
      ],
      "metadata": {
        "id": "vKp0LM4gTwya"
      }
    },
    {
      "cell_type": "code",
      "source": [
        "from sympy import Symbol , Derivative \n",
        "x = Symbol ('x')\n",
        "f = (x**3 + x**2 +3 ) * (x**2 + x )\n",
        "Derivative(f,x).doit( )"
      ],
      "metadata": {
        "id": "RjzOiIGZTyck",
        "outputId": "44d18706-9067-436a-cd0f-6df71c81f804",
        "colab": {
          "base_uri": "https://localhost:8080/",
          "height": 39
        }
      },
      "execution_count": 34,
      "outputs": [
        {
          "output_type": "execute_result",
          "data": {
            "text/latex": "$\\displaystyle \\left(2 x + 1\\right) \\left(x^{3} + x^{2} + 3\\right) + \\left(x^{2} + x\\right) \\left(3 x^{2} + 2 x\\right)$",
            "text/plain": [
              "(2*x + 1)*(x**3 + x**2 + 3) + (x**2 + x)*(3*x**2 + 2*x)"
            ]
          },
          "metadata": {},
          "execution_count": 34
        }
      ]
    },
    {
      "cell_type": "markdown",
      "source": [
        "Bài 10 "
      ],
      "metadata": {
        "id": "e_709gyeWC79"
      }
    },
    {
      "cell_type": "code",
      "source": [
        "from sympy import Symbol, Derivative \n",
        "import sympy "
      ],
      "metadata": {
        "id": "1M-CSs7fWF6g"
      },
      "execution_count": 36,
      "outputs": []
    },
    {
      "cell_type": "markdown",
      "source": [
        "A) f(x)= sin(2x) "
      ],
      "metadata": {
        "id": "roblmdTtWTqI"
      }
    },
    {
      "cell_type": "code",
      "source": [
        "f= sympy.sin(2*x)  \n",
        "Derivative( f,x ).doit()"
      ],
      "metadata": {
        "id": "YdgaoYQhWZBO",
        "outputId": "3368f8fc-c138-4308-b37b-89e6790cb48a",
        "colab": {
          "base_uri": "https://localhost:8080/",
          "height": 39
        }
      },
      "execution_count": 38,
      "outputs": [
        {
          "output_type": "execute_result",
          "data": {
            "text/latex": "$\\displaystyle 2 \\cos{\\left(2 x \\right)}$",
            "text/plain": [
              "2*cos(2*x)"
            ]
          },
          "metadata": {},
          "execution_count": 38
        }
      ]
    },
    {
      "cell_type": "markdown",
      "source": [
        "B) sin(x)cos(x)"
      ],
      "metadata": {
        "id": "P7mqVU1oXbO9"
      }
    },
    {
      "cell_type": "code",
      "source": [
        "f = sympy . sin(x)* sympy.cos(x)\n",
        "Derivative(f,x).doit()"
      ],
      "metadata": {
        "id": "rjgSVvTxXgfD",
        "outputId": "fbcb8b2c-955f-4b18-e163-2ea155b64eef",
        "colab": {
          "base_uri": "https://localhost:8080/",
          "height": 39
        }
      },
      "execution_count": 40,
      "outputs": [
        {
          "output_type": "execute_result",
          "data": {
            "text/latex": "$\\displaystyle - \\sin^{2}{\\left(x \\right)} + \\cos^{2}{\\left(x \\right)}$",
            "text/plain": [
              "-sin(x)**2 + cos(x)**2"
            ]
          },
          "metadata": {},
          "execution_count": 40
        }
      ]
    },
    {
      "cell_type": "markdown",
      "source": [
        "Bài 11"
      ],
      "metadata": {
        "id": "qM5ekEt6X3D2"
      }
    },
    {
      "cell_type": "code",
      "source": [
        "from sympy import Symbol, solve, Derivative \n",
        "x = Symbol('x')\n",
        "f = x**5 - 30*x**3 + 50*x \n",
        "d1 = Derivative(f,x). doit( )\n",
        "cuctri = solve( d1 )"
      ],
      "metadata": {
        "id": "zOa8_6l_X4Fo"
      },
      "execution_count": 44,
      "outputs": []
    },
    {
      "cell_type": "code",
      "source": [
        "A = cuctri[0]\n",
        "A = cuctri[2]\n",
        "B = cuctri[0]\n",
        "C = cuctri[1]\n",
        "D = cuctri[3]"
      ],
      "metadata": {
        "id": "cwSPC3mcZLTO"
      },
      "execution_count": 46,
      "outputs": []
    },
    {
      "cell_type": "code",
      "source": [
        "d2 = Derivative( d1,x,2).doit( )\n",
        "d2.subs({x:B}).evalf()"
      ],
      "metadata": {
        "colab": {
          "base_uri": "https://localhost:8080/",
          "height": 38
        },
        "id": "I6_rc9LKZ113",
        "outputId": "4cc3ffca-5ec7-43cb-e5ec-15eafcd42796"
      },
      "execution_count": 49,
      "outputs": [
        {
          "output_type": "execute_result",
          "data": {
            "text/latex": "$\\displaystyle -145.568986390582$",
            "text/plain": [
              "-145.568986390582"
            ]
          },
          "metadata": {},
          "execution_count": 49
        }
      ]
    },
    {
      "cell_type": "code",
      "source": [
        "d2.subs({x:C}).evalf()"
      ],
      "metadata": {
        "outputId": "1ded95db-72dc-4166-d9fc-53442479bc82",
        "colab": {
          "base_uri": "https://localhost:8080/",
          "height": 38
        },
        "id": "d2FL1S7Racvv"
      },
      "execution_count": 56,
      "outputs": [
        {
          "output_type": "execute_result",
          "data": {
            "text/latex": "$\\displaystyle -145.568986390582$",
            "text/plain": [
              "-145.568986390582"
            ]
          },
          "metadata": {},
          "execution_count": 56
        }
      ]
    },
    {
      "cell_type": "code",
      "source": [
        "d2.subs({x:A}).evalf()"
      ],
      "metadata": {
        "outputId": "08f86fcb-e4b1-4891-e8cb-62aa4db481a9",
        "colab": {
          "base_uri": "https://localhost:8080/",
          "height": 38
        },
        "id": "tSXjtGSoag1E"
      },
      "execution_count": 55,
      "outputs": [
        {
          "output_type": "execute_result",
          "data": {
            "text/latex": "$\\displaystyle 865.568986390581$",
            "text/plain": [
              "865.568986390581"
            ]
          },
          "metadata": {},
          "execution_count": 55
        }
      ]
    },
    {
      "cell_type": "code",
      "source": [
        "d2.subs({x:D}).evalf()"
      ],
      "metadata": {
        "outputId": "94ab10f3-b50f-4715-fc10-dd40cb5a5e94",
        "colab": {
          "base_uri": "https://localhost:8080/",
          "height": 38
        },
        "id": "KnJxaIazakRe"
      },
      "execution_count": 54,
      "outputs": [
        {
          "output_type": "execute_result",
          "data": {
            "text/latex": "$\\displaystyle 865.568986390581$",
            "text/plain": [
              "865.568986390581"
            ]
          },
          "metadata": {},
          "execution_count": 54
        }
      ]
    },
    {
      "cell_type": "code",
      "source": [
        "x_min = -5 \n",
        "x_max = 5 \n",
        "f.subs({x:A }).evalf( )"
      ],
      "metadata": {
        "id": "uVisSODga0Vr",
        "outputId": "a9ce319c-e1e1-4609-8ec9-0ebd3cd1bc8a",
        "colab": {
          "base_uri": "https://localhost:8080/",
          "height": 38
        }
      },
      "execution_count": 58,
      "outputs": [
        {
          "output_type": "execute_result",
          "data": {
            "text/latex": "$\\displaystyle 705.959460380365$",
            "text/plain": [
              "705.959460380365"
            ]
          },
          "metadata": {},
          "execution_count": 58
        }
      ]
    },
    {
      "cell_type": "code",
      "source": [
        "f.subs({x:C }).evalf( )"
      ],
      "metadata": {
        "id": "deEU7kZ4bMnI",
        "outputId": "c3c11037-fa6b-4979-eae0-9f3590e81ffc",
        "colab": {
          "base_uri": "https://localhost:8080/",
          "height": 38
        }
      },
      "execution_count": 60,
      "outputs": [
        {
          "output_type": "execute_result",
          "data": {
            "text/latex": "$\\displaystyle 25.0846626340294$",
            "text/plain": [
              "25.0846626340294"
            ]
          },
          "metadata": {},
          "execution_count": 60
        }
      ]
    },
    {
      "cell_type": "code",
      "source": [
        "f.subs({x: x_min }).evalf( )"
      ],
      "metadata": {
        "id": "DMFW83L5bOpk",
        "outputId": "c8595d94-e8e1-4475-8ced-57d643688087",
        "colab": {
          "base_uri": "https://localhost:8080/",
          "height": 38
        }
      },
      "execution_count": 59,
      "outputs": [
        {
          "output_type": "execute_result",
          "data": {
            "text/latex": "$\\displaystyle 375.0$",
            "text/plain": [
              "375.000000000000"
            ]
          },
          "metadata": {},
          "execution_count": 59
        }
      ]
    },
    {
      "cell_type": "code",
      "source": [
        "f.subs({x: x_max  }).evalf( )"
      ],
      "metadata": {
        "id": "eRMcUGf3bPPO",
        "outputId": "db72dc54-ace8-42ad-ef5d-075399d478ab",
        "colab": {
          "base_uri": "https://localhost:8080/",
          "height": 38
        }
      },
      "execution_count": 61,
      "outputs": [
        {
          "output_type": "execute_result",
          "data": {
            "text/latex": "$\\displaystyle -375.0$",
            "text/plain": [
              "-375.000000000000"
            ]
          },
          "metadata": {},
          "execution_count": 61
        }
      ]
    },
    {
      "cell_type": "code",
      "source": [
        "f.subs({x:B }).evalf( )"
      ],
      "metadata": {
        "id": "zVYfhKUbbakN",
        "outputId": "aafb086f-f3fb-4ff3-dc10-65500a19a95c",
        "colab": {
          "base_uri": "https://localhost:8080/",
          "height": 38
        }
      },
      "execution_count": 65,
      "outputs": [
        {
          "output_type": "execute_result",
          "data": {
            "text/latex": "$\\displaystyle -25.0846626340294$",
            "text/plain": [
              "-25.0846626340294"
            ]
          },
          "metadata": {},
          "execution_count": 65
        }
      ]
    },
    {
      "cell_type": "code",
      "source": [
        "f.subs({x:D }).evalf( )"
      ],
      "metadata": {
        "id": "sGg_NeZ0bb5P",
        "outputId": "08eefdc7-9ea4-4f44-e2ee-052afe6d4db2",
        "colab": {
          "base_uri": "https://localhost:8080/",
          "height": 38
        }
      },
      "execution_count": 64,
      "outputs": [
        {
          "output_type": "execute_result",
          "data": {
            "text/latex": "$\\displaystyle -705.959460380365$",
            "text/plain": [
              "-705.959460380365"
            ]
          },
          "metadata": {},
          "execution_count": 64
        }
      ]
    },
    {
      "cell_type": "code",
      "source": [
        "f.subs({x: x_min }).evalf( )"
      ],
      "metadata": {
        "id": "du99JGQUbccl",
        "outputId": "e7dc0ea4-b19b-49e8-e29a-3722008335a1",
        "colab": {
          "base_uri": "https://localhost:8080/",
          "height": 38
        }
      },
      "execution_count": 63,
      "outputs": [
        {
          "output_type": "execute_result",
          "data": {
            "text/latex": "$\\displaystyle 375.0$",
            "text/plain": [
              "375.000000000000"
            ]
          },
          "metadata": {},
          "execution_count": 63
        }
      ]
    },
    {
      "cell_type": "code",
      "source": [
        "f.subs({x:x_max }).evalf( )"
      ],
      "metadata": {
        "id": "T_xCr9uUbdm6",
        "outputId": "d640e6c4-f27c-43db-c7d1-3390d5f57573",
        "colab": {
          "base_uri": "https://localhost:8080/",
          "height": 38
        }
      },
      "execution_count": 62,
      "outputs": [
        {
          "output_type": "execute_result",
          "data": {
            "text/latex": "$\\displaystyle -375.0$",
            "text/plain": [
              "-375.000000000000"
            ]
          },
          "metadata": {},
          "execution_count": 62
        }
      ]
    },
    {
      "cell_type": "code",
      "source": [
        "g = sympy. E**x\n",
        "g1 = Derivative ( g , x )\n",
        "g1 "
      ],
      "metadata": {
        "id": "ra_mO38TbrWw",
        "outputId": "da1f0112-9551-4d2d-8b16-db56c51d4963",
        "colab": {
          "base_uri": "https://localhost:8080/",
          "height": 52
        }
      },
      "execution_count": 67,
      "outputs": [
        {
          "output_type": "execute_result",
          "data": {
            "text/latex": "$\\displaystyle \\frac{d}{d x} e^{x}$",
            "text/plain": [
              "Derivative(exp(x), x)"
            ]
          },
          "metadata": {},
          "execution_count": 67
        }
      ]
    },
    {
      "cell_type": "code",
      "source": [
        "Derivative(exp(x),x)\n",
        "solve(g1 )\n"
      ],
      "metadata": {
        "id": "mb45fEwrcJEe",
        "outputId": "6c2faf03-ba05-401c-ebc1-8a82fa0a9e98",
        "colab": {
          "base_uri": "https://localhost:8080/",
          "height": 182
        }
      },
      "execution_count": 73,
      "outputs": [
        {
          "output_type": "error",
          "ename": "NameError",
          "evalue": "ignored",
          "traceback": [
            "\u001b[0;31m---------------------------------------------------------------------------\u001b[0m",
            "\u001b[0;31mNameError\u001b[0m                                 Traceback (most recent call last)",
            "\u001b[0;32m<ipython-input-73-1a9176cd7b3f>\u001b[0m in \u001b[0;36m<module>\u001b[0;34m()\u001b[0m\n\u001b[0;32m----> 1\u001b[0;31m \u001b[0mDerivative\u001b[0m\u001b[0;34m(\u001b[0m\u001b[0mexp\u001b[0m\u001b[0;34m(\u001b[0m\u001b[0mx\u001b[0m\u001b[0;34m)\u001b[0m\u001b[0;34m,\u001b[0m\u001b[0mx\u001b[0m\u001b[0;34m)\u001b[0m\u001b[0;34m\u001b[0m\u001b[0;34m\u001b[0m\u001b[0m\n\u001b[0m\u001b[1;32m      2\u001b[0m \u001b[0msolve\u001b[0m\u001b[0;34m(\u001b[0m\u001b[0mg1\u001b[0m \u001b[0;34m)\u001b[0m\u001b[0;34m\u001b[0m\u001b[0;34m\u001b[0m\u001b[0m\n",
            "\u001b[0;31mNameError\u001b[0m: name 'exp' is not defined"
          ]
        }
      ]
    },
    {
      "cell_type": "code",
      "source": [
        "import sympy \n",
        "sympy.plot (f,(x,-5,5 ))"
      ],
      "metadata": {
        "id": "5D1eGpO3eBbQ",
        "outputId": "dabe4bd1-c03c-4d6d-a44e-efad16a23670",
        "colab": {
          "base_uri": "https://localhost:8080/",
          "height": 314
        }
      },
      "execution_count": 75,
      "outputs": [
        {
          "output_type": "display_data",
          "data": {
            "image/png": "[encoded data removed]",
            "text/plain": [
              "<Figure size 432x288 with 1 Axes>"
            ]
          },
          "metadata": {
            "needs_background": "light"
          }
        },
        {
          "output_type": "execute_result",
          "data": {
            "text/plain": [
              "<sympy.plotting.plot.Plot at 0x7fd119ecebd0>"
            ]
          },
          "metadata": {},
          "execution_count": 75
        }
      ]
    },
    {
      "cell_type": "markdown",
      "source": [
        "Bài tập "
      ],
      "metadata": {
        "id": "hZ0y1fV1ejDq"
      }
    },
    {
      "cell_type": "markdown",
      "source": [
        "Bài 1 "
      ],
      "metadata": {
        "id": "g-53pjhrfqPy"
      }
    },
    {
      "cell_type": "code",
      "source": [
        "songaymua= [2.4 , 1.0, 1.9, 5.4, 17.8, 19, 22.9, 22.4, 23.1, 20.9 ,12.1 , 6.7 ]\n",
        "thang= range (1,13)\n",
        "from pylab import show, plot \n",
        "plot(thang, songaymua , marker='o') \n",
        "show() "
      ],
      "metadata": {
        "id": "x6duZhahenIz",
        "outputId": "10d74ce3-3e46-484a-c049-b2f9954a8e96",
        "colab": {
          "base_uri": "https://localhost:8080/",
          "height": 265
        }
      },
      "execution_count": 77,
      "outputs": [
        {
          "output_type": "display_data",
          "data": {
            "image/png": "[encoded data removed]",
            "text/plain": [
              "<Figure size 432x288 with 1 Axes>"
            ]
          },
          "metadata": {
            "needs_background": "light"
          }
        }
      ]
    },
    {
      "cell_type": "markdown",
      "source": [
        "BÀi 2 "
      ],
      "metadata": {
        "id": "EVN5ECBefxzQ"
      }
    },
    {
      "cell_type": "code",
      "source": [
        "from sympy import symbol, Derivative \n",
        "x= Symbol ('x')\n"
      ],
      "metadata": {
        "id": "8MJdH9KafzBf"
      },
      "execution_count": null,
      "outputs": []
    },
    {
      "cell_type": "code",
      "source": [
        "a=x**2 + x\n",
        "Derivative(a,x).doit( ) "
      ],
      "metadata": {
        "id": "Oz62F_PNgAcR",
        "outputId": "9af5a0e7-22d7-44e5-b531-a4c2e1d97c0e",
        "colab": {
          "base_uri": "https://localhost:8080/",
          "height": 39
        }
      },
      "execution_count": 78,
      "outputs": [
        {
          "output_type": "execute_result",
          "data": {
            "text/latex": "$\\displaystyle 2 x + 1$",
            "text/plain": [
              "2*x + 1"
            ]
          },
          "metadata": {},
          "execution_count": 78
        }
      ]
    },
    {
      "cell_type": "code",
      "source": [
        "b= x**2/(x+10)+x**5 \n",
        "Derivative(b,x).doit()"
      ],
      "metadata": {
        "id": "TP4-0cN4gLIL",
        "outputId": "16bc9870-ba14-44c3-ef44-ec60fad67030",
        "colab": {
          "base_uri": "https://localhost:8080/",
          "height": 61
        }
      },
      "execution_count": 79,
      "outputs": [
        {
          "output_type": "execute_result",
          "data": {
            "text/latex": "$\\displaystyle 5 x^{4} - \\frac{x^{2}}{\\left(x + 10\\right)^{2}} + \\frac{2 x}{x + 10}$",
            "text/plain": [
              "5*x**4 - x**2/(x + 10)**2 + 2*x/(x + 10)"
            ]
          },
          "metadata": {},
          "execution_count": 79
        }
      ]
    },
    {
      "cell_type": "code",
      "source": [
        "c = (x-2)**2*(x/5-x**2)\n",
        "Derivative(c,x).doit()"
      ],
      "metadata": {
        "id": "u4qYCQS8gY9b",
        "outputId": "c2cc9658-1ee5-4554-fa53-6559c381c45e",
        "colab": {
          "base_uri": "https://localhost:8080/",
          "height": 58
        }
      },
      "execution_count": 81,
      "outputs": [
        {
          "output_type": "execute_result",
          "data": {
            "text/latex": "$\\displaystyle \\left(\\frac{1}{5} - 2 x\\right) \\left(x - 2\\right)^{2} + \\left(2 x - 4\\right) \\left(- x^{2} + \\frac{x}{5}\\right)$",
            "text/plain": [
              "(1/5 - 2*x)*(x - 2)**2 + (2*x - 4)*(-x**2 + x/5)"
            ]
          },
          "metadata": {},
          "execution_count": 81
        }
      ]
    }
  ]
}