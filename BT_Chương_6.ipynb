{
  "nbformat": 4,
  "nbformat_minor": 0,
  "metadata": {
    "colab": {
      "name": "BT - Chương 6",
      "provenance": [],
      "authorship_tag": "ABX9TyMwBBMHX68uuA3XxLA4bF0Z",
      "include_colab_link": true
    },
    "kernelspec": {
      "name": "python3",
      "display_name": "Python 3"
    },
    "language_info": {
      "name": "python"
    }
  },
  "cells": [
    {
      "cell_type": "markdown",
      "metadata": {
        "id": "view-in-github",
        "colab_type": "text"
      },
      "source": [
        "<a href=\"https://colab.research.google.com/github/NguyenDucHuyCNTT31/THToanCaoCap/blob/main/BT_Ch%C6%B0%C6%A1ng_6.ipynb\" target=\"_parent\"><img src=\"https://colab.research.google.com/assets/colab-badge.svg\" alt=\"Open In Colab\"/></a>"
      ]
    },
    {
      "cell_type": "markdown",
      "source": [
        "Bài 1: "
      ],
      "metadata": {
        "id": "cBEIIImmuwBp"
      }
    },
    {
      "cell_type": "code",
      "source": [
        "import math\n",
        "def giaithua(n): \n",
        "   if (n==0): \n",
        "     return 1\n",
        "   else: \n",
        "     return n*giaithua(n-1)\n",
        "giaithua(3)"
      ],
      "metadata": {
        "colab": {
          "base_uri": "https://localhost:8080/"
        },
        "id": "E3P04PCauxBU",
        "outputId": "880f4643-9cec-416d-8a05-94534b1ea78d"
      },
      "execution_count": 2,
      "outputs": [
        {
          "output_type": "execute_result",
          "data": {
            "text/plain": [
              "6"
            ]
          },
          "metadata": {},
          "execution_count": 2
        }
      ]
    },
    {
      "cell_type": "code",
      "source": [
        "giaithua(4)"
      ],
      "metadata": {
        "colab": {
          "base_uri": "https://localhost:8080/"
        },
        "id": "hYFb7tXZvT-1",
        "outputId": "b98df5a5-b03f-46dc-a812-e141321578d4"
      },
      "execution_count": 3,
      "outputs": [
        {
          "output_type": "execute_result",
          "data": {
            "text/plain": [
              "24"
            ]
          },
          "metadata": {},
          "execution_count": 3
        }
      ]
    },
    {
      "cell_type": "markdown",
      "source": [
        "Bài 2: "
      ],
      "metadata": {
        "id": "ho2kqMvJveyM"
      }
    },
    {
      "cell_type": "code",
      "source": [
        "def fibo(n):\n",
        "   if n == 0: \n",
        "     return 0\n",
        "   if n == 1:  \n",
        "     return 1 \n",
        "   return fibo(n-1) + fibo(n-2)\n"
      ],
      "metadata": {
        "id": "zB_rB-7jvgEJ"
      },
      "execution_count": 5,
      "outputs": []
    },
    {
      "cell_type": "code",
      "source": [
        "fibo(4)"
      ],
      "metadata": {
        "colab": {
          "base_uri": "https://localhost:8080/"
        },
        "id": "9XQhYqqgv-V0",
        "outputId": "6e5a80a8-28c4-42e2-c760-f76de518755c"
      },
      "execution_count": 6,
      "outputs": [
        {
          "output_type": "execute_result",
          "data": {
            "text/plain": [
              "3"
            ]
          },
          "metadata": {},
          "execution_count": 6
        }
      ]
    },
    {
      "cell_type": "code",
      "source": [
        "fibo(5)\n"
      ],
      "metadata": {
        "colab": {
          "base_uri": "https://localhost:8080/"
        },
        "id": "jCmaFK3uv7FD",
        "outputId": "f8b66a4a-2b74-4c63-b9da-fb88e2cb894c"
      },
      "execution_count": 7,
      "outputs": [
        {
          "output_type": "execute_result",
          "data": {
            "text/plain": [
              "5"
            ]
          },
          "metadata": {},
          "execution_count": 7
        }
      ]
    },
    {
      "cell_type": "code",
      "source": [
        "fibo(6) "
      ],
      "metadata": {
        "colab": {
          "base_uri": "https://localhost:8080/"
        },
        "id": "9_Fiqoawv8CX",
        "outputId": "5157f12f-4037-4b5c-dc62-9a7dcea134be"
      },
      "execution_count": 8,
      "outputs": [
        {
          "output_type": "execute_result",
          "data": {
            "text/plain": [
              "8"
            ]
          },
          "metadata": {},
          "execution_count": 8
        }
      ]
    },
    {
      "cell_type": "markdown",
      "source": [
        "Bài 3: "
      ],
      "metadata": {
        "id": "rkdv8t4EwCQr"
      }
    },
    {
      "cell_type": "code",
      "source": [
        "def an_exp_an(n):\n",
        "   if n == 1: \n",
        "     return 1.0/2\n",
        "   else: \n",
        "     return an_exp_an(n-1)**an_exp_an(n-1) \n",
        "an_exp_an(1) "
      ],
      "metadata": {
        "colab": {
          "base_uri": "https://localhost:8080/"
        },
        "id": "meD8ds4UwDdZ",
        "outputId": "54fc7672-c64f-45c5-ef1e-4984ef06945c"
      },
      "execution_count": 9,
      "outputs": [
        {
          "output_type": "execute_result",
          "data": {
            "text/plain": [
              "0.5"
            ]
          },
          "metadata": {},
          "execution_count": 9
        }
      ]
    },
    {
      "cell_type": "code",
      "source": [
        "an_exp_an(2)"
      ],
      "metadata": {
        "colab": {
          "base_uri": "https://localhost:8080/"
        },
        "id": "NV1grA29wDjF",
        "outputId": "5b641b74-5fc7-4e12-d95f-1d6eac5caeef"
      },
      "execution_count": 10,
      "outputs": [
        {
          "output_type": "execute_result",
          "data": {
            "text/plain": [
              "0.7071067811865476"
            ]
          },
          "metadata": {},
          "execution_count": 10
        }
      ]
    },
    {
      "cell_type": "code",
      "source": [
        "an_exp_an(3)"
      ],
      "metadata": {
        "colab": {
          "base_uri": "https://localhost:8080/"
        },
        "id": "BlmQOpk6xIE0",
        "outputId": "792154ce-d001-415b-829e-077313aebd27"
      },
      "execution_count": 11,
      "outputs": [
        {
          "output_type": "execute_result",
          "data": {
            "text/plain": [
              "0.7826540273556803"
            ]
          },
          "metadata": {},
          "execution_count": 11
        }
      ]
    },
    {
      "cell_type": "code",
      "source": [
        "an_exp_an(4)"
      ],
      "metadata": {
        "colab": {
          "base_uri": "https://localhost:8080/"
        },
        "id": "UirH84vnxJYa",
        "outputId": "f7bc447a-5626-43f9-985a-228dd0fe7d8c"
      },
      "execution_count": 12,
      "outputs": [
        {
          "output_type": "execute_result",
          "data": {
            "text/plain": [
              "0.8254713306050621"
            ]
          },
          "metadata": {},
          "execution_count": 12
        }
      ]
    },
    {
      "cell_type": "code",
      "source": [
        "an_exp_an(5)"
      ],
      "metadata": {
        "colab": {
          "base_uri": "https://localhost:8080/"
        },
        "id": "sx75E37yxKqq",
        "outputId": "f71f9421-6714-4b8e-b9e7-c4e0f154a40a"
      },
      "execution_count": 13,
      "outputs": [
        {
          "output_type": "execute_result",
          "data": {
            "text/plain": [
              "0.8535714578150946"
            ]
          },
          "metadata": {},
          "execution_count": 13
        }
      ]
    },
    {
      "cell_type": "code",
      "source": [
        "an_exp_an(10)"
      ],
      "metadata": {
        "colab": {
          "base_uri": "https://localhost:8080/"
        },
        "id": "I_RedY6sxLxT",
        "outputId": "e64dd9db-5951-4229-bf34-720112eb0fce"
      },
      "execution_count": 14,
      "outputs": [
        {
          "output_type": "execute_result",
          "data": {
            "text/plain": [
              "0.9176411981636667"
            ]
          },
          "metadata": {},
          "execution_count": 14
        }
      ]
    },
    {
      "cell_type": "markdown",
      "source": [
        "Bài 4:"
      ],
      "metadata": {
        "id": "Fk5NpKxgxnot"
      }
    },
    {
      "cell_type": "code",
      "source": [
        "def bai4(n): \n",
        "  if n==1: \n",
        "    return 4 \n",
        "  else: \n",
        "    return 5.0/(6-bai4(n-1))\n",
        "bai4(5)"
      ],
      "metadata": {
        "colab": {
          "base_uri": "https://localhost:8080/"
        },
        "id": "ihg5_ZcMxpH-",
        "outputId": "c0df4728-01d3-4423-b844-b94a4168d780"
      },
      "execution_count": 15,
      "outputs": [
        {
          "output_type": "execute_result",
          "data": {
            "text/plain": [
              "1.019108280254777"
            ]
          },
          "metadata": {},
          "execution_count": 15
        }
      ]
    },
    {
      "cell_type": "code",
      "source": [
        "bai4(6)"
      ],
      "metadata": {
        "colab": {
          "base_uri": "https://localhost:8080/"
        },
        "id": "w0pthRbHx-FG",
        "outputId": "a1cd9817-9682-4b40-e84d-bf293af6548b"
      },
      "execution_count": 16,
      "outputs": [
        {
          "output_type": "execute_result",
          "data": {
            "text/plain": [
              "1.0038363171355498"
            ]
          },
          "metadata": {},
          "execution_count": 16
        }
      ]
    },
    {
      "cell_type": "code",
      "source": [
        "bai4(7)"
      ],
      "metadata": {
        "colab": {
          "base_uri": "https://localhost:8080/"
        },
        "id": "oMeRCS-FyOf4",
        "outputId": "daf78855-20e3-4234-cecd-129b8fabc16e"
      },
      "execution_count": 17,
      "outputs": [
        {
          "output_type": "execute_result",
          "data": {
            "text/plain": [
              "1.000767852572306"
            ]
          },
          "metadata": {},
          "execution_count": 17
        }
      ]
    },
    {
      "cell_type": "code",
      "source": [
        "bai4(10)"
      ],
      "metadata": {
        "colab": {
          "base_uri": "https://localhost:8080/"
        },
        "id": "Mgf8xvHuyQZq",
        "outputId": "126934fb-6f60-4b1f-a75e-0314928b887d"
      },
      "execution_count": 18,
      "outputs": [
        {
          "output_type": "execute_result",
          "data": {
            "text/plain": [
              "1.0000061439905628"
            ]
          },
          "metadata": {},
          "execution_count": 18
        }
      ]
    },
    {
      "cell_type": "code",
      "source": [
        "bai4(100)"
      ],
      "metadata": {
        "colab": {
          "base_uri": "https://localhost:8080/"
        },
        "id": "M81wTYxrySmU",
        "outputId": "64419f18-c152-47f0-f8b2-1b711c301557"
      },
      "execution_count": 19,
      "outputs": [
        {
          "output_type": "execute_result",
          "data": {
            "text/plain": [
              "1.0"
            ]
          },
          "metadata": {},
          "execution_count": 19
        }
      ]
    },
    {
      "cell_type": "markdown",
      "source": [
        "Bài 5: "
      ],
      "metadata": {
        "id": "3ufrGSWrydh0"
      }
    },
    {
      "cell_type": "code",
      "source": [
        "def tisoFibo(n): \n",
        "  if n==1: \n",
        "    return 1 \n",
        "  else: return 1.0 + 1.0/tisoFibo(n-1) \n",
        "for i in range(1, 11): \n",
        "  print (i, tisoFibo(i))\n",
        "  "
      ],
      "metadata": {
        "colab": {
          "base_uri": "https://localhost:8080/"
        },
        "id": "IQ4giEOLyfAe",
        "outputId": "c52dd6be-9efa-4ef7-d60e-70a6afbf6704"
      },
      "execution_count": 21,
      "outputs": [
        {
          "output_type": "stream",
          "name": "stdout",
          "text": [
            "1 1\n",
            "2 2.0\n",
            "3 1.5\n",
            "4 1.6666666666666665\n",
            "5 1.6\n",
            "6 1.625\n",
            "7 1.6153846153846154\n",
            "8 1.619047619047619\n",
            "9 1.6176470588235294\n",
            "10 1.6181818181818182\n"
          ]
        }
      ]
    },
    {
      "cell_type": "markdown",
      "source": [
        "Bài 6:"
      ],
      "metadata": {
        "id": "Fzeyt5skzuGr"
      }
    },
    {
      "cell_type": "code",
      "source": [
        "from sympy import Derivative, Symbol, sympify\n",
        "def grad_ascent(x0, ham_f1x, x):\n",
        "   epsilon = 1e-6\n",
        "   step_size = 1e-4    \n",
        "   x_old = x0     \n",
        "   x_new = x_old + step_size*ham_f1x.subs({x:x_old}).evalf()     \n",
        "   while abs(x_old - x_new) > epsilon:\n",
        "              x_old = x_new         \n",
        "              x_new = x_old + step_size*ham_f1x.subs({x:x_old}).evalf() "
      ],
      "metadata": {
        "id": "naxYlrm2zp-s"
      },
      "execution_count": 22,
      "outputs": []
    },
    {
      "cell_type": "code",
      "source": [
        "if __name__ == '__main__':\n",
        "       f = input('Nhap ham 1 bien (f): ')\n",
        "       var = input('Nhap ten bien tuong ung (x): ')     \n",
        "       var0 = float(input('Nhap gia tri khoi dau cho bien x: '))     \n",
        "       try: \n",
        "         f = sympify(f)  # kiem tra ham     \n",
        "       except SympifyError:         print('Ham nhap khong hop le!')     \n",
        "       else:         \n",
        "         var = Symbol(var)         \n",
        "         d = Derivative(f, var).doit()         \n",
        "         var_max = grad_ascent(var0, d, var)         \n",
        "         print('{0}: {1}'.format(var.name, var_max))         \n",
        "         print('Maximum value: {0}'.format(f.subs({var:var_max}))) "
      ],
      "metadata": {
        "id": "QWhjSFiX0cOD"
      },
      "execution_count": null,
      "outputs": []
    }
  ]
}