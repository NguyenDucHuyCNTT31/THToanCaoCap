{
  "nbformat": 4,
  "nbformat_minor": 0,
  "metadata": {
    "colab": {
      "name": "BTChuong1.ipynb",
      "provenance": [],
      "authorship_tag": "ABX9TyMrkV0cDFwz8sJCr1kSlYlx",
      "include_colab_link": true
    },
    "kernelspec": {
      "name": "python3",
      "display_name": "Python 3"
    },
    "language_info": {
      "name": "python"
    }
  },
  "cells": [
    {
      "cell_type": "markdown",
      "metadata": {
        "id": "view-in-github",
        "colab_type": "text"
      },
      "source": [
        "<a href=\"https://colab.research.google.com/github/NguyenDucHuyCNTT31/THToanCaoCap/blob/main/BTChuong1.ipynb\" target=\"_parent\"><img src=\"https://colab.research.google.com/assets/colab-badge.svg\" alt=\"Open In Colab\"/></a>"
      ]
    },
    {
      "cell_type": "code",
      "execution_count": null,
      "metadata": {
        "colab": {
          "base_uri": "https://localhost:8080/"
        },
        "id": "SPD--ky2p8b_",
        "outputId": "dfc42972-a677-44c4-bc5d-99c4dfb6d3c7"
      },
      "outputs": [
        {
          "output_type": "stream",
          "name": "stdout",
          "text": [
            "hello\n"
          ]
        }
      ],
      "source": [
        "print('hello')\n"
      ]
    },
    {
      "cell_type": "markdown",
      "source": [
        "Bài 1\n"
      ],
      "metadata": {
        "id": "RLFaNiM80M5e"
      }
    },
    {
      "cell_type": "code",
      "source": [
        "n=100\n",
        "dayso=[1/2**k for k in range (0,n)]\n",
        "len(dayso)"
      ],
      "metadata": {
        "colab": {
          "base_uri": "https://localhost:8080/"
        },
        "id": "3ImBV5Ec0OnX",
        "outputId": "37e1c520-6d66-4d9e-c92b-9b37858be92a"
      },
      "execution_count": null,
      "outputs": [
        {
          "output_type": "execute_result",
          "data": {
            "text/plain": [
              "100"
            ]
          },
          "metadata": {},
          "execution_count": 7
        }
      ]
    },
    {
      "cell_type": "code",
      "source": [
        "sum(dayso)"
      ],
      "metadata": {
        "colab": {
          "base_uri": "https://localhost:8080/"
        },
        "id": "75G0GwgR5iDo",
        "outputId": "319eabb6-9c68-4578-bd27-17ca1833577f"
      },
      "execution_count": null,
      "outputs": [
        {
          "output_type": "execute_result",
          "data": {
            "text/plain": [
              "2.0"
            ]
          },
          "metadata": {},
          "execution_count": 8
        }
      ]
    },
    {
      "cell_type": "markdown",
      "source": [
        "Bài 2"
      ],
      "metadata": {
        "id": "1-kUPZpn5smn"
      }
    },
    {
      "cell_type": "code",
      "source": [
        "n = 100000 \n",
        "x = [(2-0)*k/n for k in range(0, n+1)]\n",
        "s = 0\n",
        "for k in range(1, n+1):\n",
        "  s = s + x[k]**2*(x[k] - x[k-1])\n",
        "print(s)"
      ],
      "metadata": {
        "id": "5A73_O7F5uN8",
        "outputId": "a19a0dcb-ee71-487f-8e8a-ec7013dbc48d",
        "colab": {
          "base_uri": "https://localhost:8080/"
        }
      },
      "execution_count": 2,
      "outputs": [
        {
          "output_type": "stream",
          "name": "stdout",
          "text": [
            "2.6667066667999775\n"
          ]
        }
      ]
    },
    {
      "cell_type": "markdown",
      "source": [
        "Bài 3\n"
      ],
      "metadata": {
        "id": "k2sF-vewBM1x"
      }
    },
    {
      "cell_type": "code",
      "source": [
        "from sympy import *\n",
        "x = Rational (3,4 )\n",
        "print(x )\n",
        "x"
      ],
      "metadata": {
        "id": "18w_lHZUBPHC",
        "outputId": "4caa2b17-66af-4f8a-d7a9-1f50e56a6f49",
        "colab": {
          "base_uri": "https://localhost:8080/",
          "height": 68
        }
      },
      "execution_count": 10,
      "outputs": [
        {
          "output_type": "stream",
          "name": "stdout",
          "text": [
            "3/4\n"
          ]
        },
        {
          "output_type": "execute_result",
          "data": {
            "text/latex": "$\\displaystyle \\frac{3}{4}$",
            "text/plain": [
              "3/4"
            ]
          },
          "metadata": {},
          "execution_count": 10
        }
      ]
    },
    {
      "cell_type": "code",
      "source": [
        "+oo  < 22\n"
      ],
      "metadata": {
        "id": "UPiPTCmcCTIm",
        "outputId": "6ff7979f-0eb5-4549-dbf7-66ca987d877b",
        "colab": {
          "base_uri": "https://localhost:8080/",
          "height": 38
        }
      },
      "execution_count": 11,
      "outputs": [
        {
          "output_type": "execute_result",
          "data": {
            "text/latex": "$\\displaystyle \\text{False}$",
            "text/plain": [
              "False"
            ]
          },
          "metadata": {},
          "execution_count": 11
        }
      ]
    },
    {
      "cell_type": "code",
      "source": [
        "-oo < 4 "
      ],
      "metadata": {
        "id": "0LkDGf4RChBc",
        "outputId": "5c86d71a-3caf-4aab-9213-37a6785eafd1",
        "colab": {
          "base_uri": "https://localhost:8080/",
          "height": 38
        }
      },
      "execution_count": 12,
      "outputs": [
        {
          "output_type": "execute_result",
          "data": {
            "text/latex": "$\\displaystyle \\text{True}$",
            "text/plain": [
              "True"
            ]
          },
          "metadata": {},
          "execution_count": 12
        }
      ]
    },
    {
      "cell_type": "code",
      "source": [
        "Rational(1,2) + Rational(1,3)"
      ],
      "metadata": {
        "id": "si46ypRsClI1",
        "outputId": "9648336b-03f6-4274-b256-91a83fb8a307",
        "colab": {
          "base_uri": "https://localhost:8080/",
          "height": 51
        }
      },
      "execution_count": 13,
      "outputs": [
        {
          "output_type": "execute_result",
          "data": {
            "text/latex": "$\\displaystyle \\frac{5}{6}$",
            "text/plain": [
              "5/6"
            ]
          },
          "metadata": {},
          "execution_count": 13
        }
      ]
    },
    {
      "cell_type": "code",
      "source": [
        "Rational(1,2) + 11"
      ],
      "metadata": {
        "id": "JNqRJCQTCzQh",
        "outputId": "9202cf09-8fd6-47e1-e9f7-e6d4fca1344d",
        "colab": {
          "base_uri": "https://localhost:8080/",
          "height": 51
        }
      },
      "execution_count": 14,
      "outputs": [
        {
          "output_type": "execute_result",
          "data": {
            "text/latex": "$\\displaystyle \\frac{23}{2}$",
            "text/plain": [
              "23/2"
            ]
          },
          "metadata": {},
          "execution_count": 14
        }
      ]
    },
    {
      "cell_type": "code",
      "source": [
        "Rational(1,2)+3+1.55"
      ],
      "metadata": {
        "id": "MaZboQSGC4bK",
        "outputId": "0bca3aff-08da-43f3-a069-4d0ce5151d2b",
        "colab": {
          "base_uri": "https://localhost:8080/",
          "height": 38
        }
      },
      "execution_count": 15,
      "outputs": [
        {
          "output_type": "execute_result",
          "data": {
            "text/latex": "$\\displaystyle 5.05$",
            "text/plain": [
              "5.05000000000000"
            ]
          },
          "metadata": {},
          "execution_count": 15
        }
      ]
    }
  ]
}