{
  "nbformat": 4,
  "nbformat_minor": 0,
  "metadata": {
    "colab": {
      "name": "BTChuong1.ipynb",
      "provenance": [],
      "authorship_tag": "ABX9TyOTTc5ZqeGr5xBR92lcxP5r",
      "include_colab_link": true
    },
    "kernelspec": {
      "name": "python3",
      "display_name": "Python 3"
    },
    "language_info": {
      "name": "python"
    }
  },
  "cells": [
    {
      "cell_type": "markdown",
      "metadata": {
        "id": "view-in-github",
        "colab_type": "text"
      },
      "source": [
        "<a href=\"https://colab.research.google.com/github/NguyenDucHuyCNTT31/THToanCaoCap/blob/main/BTChuong1.ipynb\" target=\"_parent\"><img src=\"https://colab.research.google.com/assets/colab-badge.svg\" alt=\"Open In Colab\"/></a>"
      ]
    },
    {
      "cell_type": "code",
      "execution_count": null,
      "metadata": {
        "colab": {
          "base_uri": "https://localhost:8080/"
        },
        "id": "SPD--ky2p8b_",
        "outputId": "dfc42972-a677-44c4-bc5d-99c4dfb6d3c7"
      },
      "outputs": [
        {
          "output_type": "stream",
          "name": "stdout",
          "text": [
            "hello\n"
          ]
        }
      ],
      "source": [
        "print('hello')\n"
      ]
    },
    {
      "cell_type": "markdown",
      "source": [
        "Bài 1\n"
      ],
      "metadata": {
        "id": "RLFaNiM80M5e"
      }
    },
    {
      "cell_type": "code",
      "source": [
        "n=100\n",
        "dayso=[1/2**k for k in range (0,n)]\n",
        "len(dayso)"
      ],
      "metadata": {
        "colab": {
          "base_uri": "https://localhost:8080/"
        },
        "id": "3ImBV5Ec0OnX",
        "outputId": "37e1c520-6d66-4d9e-c92b-9b37858be92a"
      },
      "execution_count": 7,
      "outputs": [
        {
          "output_type": "execute_result",
          "data": {
            "text/plain": [
              "100"
            ]
          },
          "metadata": {},
          "execution_count": 7
        }
      ]
    },
    {
      "cell_type": "code",
      "source": [
        "sum(dayso)"
      ],
      "metadata": {
        "colab": {
          "base_uri": "https://localhost:8080/"
        },
        "id": "75G0GwgR5iDo",
        "outputId": "319eabb6-9c68-4578-bd27-17ca1833577f"
      },
      "execution_count": 8,
      "outputs": [
        {
          "output_type": "execute_result",
          "data": {
            "text/plain": [
              "2.0"
            ]
          },
          "metadata": {},
          "execution_count": 8
        }
      ]
    },
    {
      "cell_type": "markdown",
      "source": [
        "Bài 2"
      ],
      "metadata": {
        "id": "1-kUPZpn5smn"
      }
    },
    {
      "cell_type": "code",
      "source": [
        ""
      ],
      "metadata": {
        "id": "5A73_O7F5uN8"
      },
      "execution_count": null,
      "outputs": []
    }
  ]
}