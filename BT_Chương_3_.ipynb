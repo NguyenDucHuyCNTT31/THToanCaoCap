{
  "nbformat": 4,
  "nbformat_minor": 0,
  "metadata": {
    "colab": {
      "name": "BT Chương 3 .ipynb",
      "provenance": [],
      "authorship_tag": "ABX9TyNxqJ2H25Niwwy0LjNvPjn+",
      "include_colab_link": true
    },
    "kernelspec": {
      "name": "python3",
      "display_name": "Python 3"
    },
    "language_info": {
      "name": "python"
    }
  },
  "cells": [
    {
      "cell_type": "markdown",
      "metadata": {
        "id": "view-in-github",
        "colab_type": "text"
      },
      "source": [
        "<a href=\"https://colab.research.google.com/github/NguyenDucHuyCNTT31/THToanCaoCap/blob/main/BT_Ch%C6%B0%C6%A1ng_3_.ipynb\" target=\"_parent\"><img src=\"https://colab.research.google.com/assets/colab-badge.svg\" alt=\"Open In Colab\"/></a>"
      ]
    },
    {
      "cell_type": "code",
      "execution_count": null,
      "metadata": {
        "id": "CqpiPMChFMsk"
      },
      "outputs": [],
      "source": [
        ""
      ]
    }
  ]
}