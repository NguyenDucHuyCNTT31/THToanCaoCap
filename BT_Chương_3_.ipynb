{
  "nbformat": 4,
  "nbformat_minor": 0,
  "metadata": {
    "colab": {
      "name": "BT Chương 3 .ipynb",
      "provenance": [],
      "authorship_tag": "ABX9TyOSX+a4hsdAd5x4KByn5XIo",
      "include_colab_link": true
    },
    "kernelspec": {
      "name": "python3",
      "display_name": "Python 3"
    },
    "language_info": {
      "name": "python"
    }
  },
  "cells": [
    {
      "cell_type": "markdown",
      "metadata": {
        "id": "view-in-github",
        "colab_type": "text"
      },
      "source": [
        "<a href=\"https://colab.research.google.com/github/NguyenDucHuyCNTT31/THToanCaoCap/blob/main/BT_Ch%C6%B0%C6%A1ng_3_.ipynb\" target=\"_parent\"><img src=\"https://colab.research.google.com/assets/colab-badge.svg\" alt=\"Open In Colab\"/></a>"
      ]
    },
    {
      "cell_type": "markdown",
      "source": [
        "Bài 1 "
      ],
      "metadata": {
        "id": "653NBBUeFg5Z"
      }
    },
    {
      "cell_type": "code",
      "source": [
        "def luythua(x,n): \n",
        "  ketqua = 1\n",
        "  for i in range (n ):\n",
        "    ketqua= ketqua*x\n",
        "  return ketqua \n",
        "luythua(2,1 )\n"
      ],
      "metadata": {
        "colab": {
          "base_uri": "https://localhost:8080/"
        },
        "id": "mhvyd2RmFiGg",
        "outputId": "3b91b30a-06df-4197-f2dc-c994e048b14d"
      },
      "execution_count": null,
      "outputs": [
        {
          "output_type": "execute_result",
          "data": {
            "text/plain": [
              "2"
            ]
          },
          "metadata": {},
          "execution_count": 3
        }
      ]
    },
    {
      "cell_type": "code",
      "source": [
        "luythua( 2,0 )"
      ],
      "metadata": {
        "colab": {
          "base_uri": "https://localhost:8080/"
        },
        "id": "IxYyjsaAGXTU",
        "outputId": "a3458ca6-3f60-439f-aedd-ca85860ca0aa"
      },
      "execution_count": null,
      "outputs": [
        {
          "output_type": "execute_result",
          "data": {
            "text/plain": [
              "1"
            ]
          },
          "metadata": {},
          "execution_count": 4
        }
      ]
    },
    {
      "cell_type": "markdown",
      "source": [
        "Bài 2  ( Các lỗi ) "
      ],
      "metadata": {
        "id": "2cac5DylGgWZ"
      }
    },
    {
      "cell_type": "markdown",
      "source": [
        "Cú pháp "
      ],
      "metadata": {
        "id": "qZHFHFGCGl1J"
      }
    },
    {
      "cell_type": "code",
      "source": [
        "while x = 5 "
      ],
      "metadata": {
        "colab": {
          "base_uri": "https://localhost:8080/",
          "height": 130
        },
        "id": "DtJHxPESGi5U",
        "outputId": "a0e06e37-4eb4-4ed5-c68c-4a7e712f66ba"
      },
      "execution_count": null,
      "outputs": [
        {
          "output_type": "error",
          "ename": "SyntaxError",
          "evalue": "ignored",
          "traceback": [
            "\u001b[0;36m  File \u001b[0;32m\"<ipython-input-5-6bcee4a5376a>\"\u001b[0;36m, line \u001b[0;32m1\u001b[0m\n\u001b[0;31m    while x = 5\u001b[0m\n\u001b[0m            ^\u001b[0m\n\u001b[0;31mSyntaxError\u001b[0m\u001b[0;31m:\u001b[0m invalid syntax\n"
          ]
        }
      ]
    },
    {
      "cell_type": "markdown",
      "source": [
        "Ngoại lệ "
      ],
      "metadata": {
        "id": "HHF5Kx8gGu7P"
      }
    },
    {
      "cell_type": "code",
      "source": [
        "10*(1/0 )"
      ],
      "metadata": {
        "colab": {
          "base_uri": "https://localhost:8080/",
          "height": 165
        },
        "id": "z8DDYtQrGtbM",
        "outputId": "83f5749e-5b79-4a33-ad43-622e85a2ca3e"
      },
      "execution_count": null,
      "outputs": [
        {
          "output_type": "error",
          "ename": "ZeroDivisionError",
          "evalue": "ignored",
          "traceback": [
            "\u001b[0;31m---------------------------------------------------------------------------\u001b[0m",
            "\u001b[0;31mZeroDivisionError\u001b[0m                         Traceback (most recent call last)",
            "\u001b[0;32m<ipython-input-7-1c5ef2762fb6>\u001b[0m in \u001b[0;36m<module>\u001b[0;34m()\u001b[0m\n\u001b[0;32m----> 1\u001b[0;31m \u001b[0;36m10\u001b[0m\u001b[0;34m*\u001b[0m\u001b[0;34m(\u001b[0m\u001b[0;36m1\u001b[0m\u001b[0;34m/\u001b[0m\u001b[0;36m0\u001b[0m \u001b[0;34m)\u001b[0m\u001b[0;34m\u001b[0m\u001b[0;34m\u001b[0m\u001b[0m\n\u001b[0m",
            "\u001b[0;31mZeroDivisionError\u001b[0m: division by zero"
          ]
        }
      ]
    },
    {
      "cell_type": "markdown",
      "source": [
        "Bài 3 "
      ],
      "metadata": {
        "id": "uy8arT9MG_kP"
      }
    },
    {
      "cell_type": "code",
      "source": [
        "x = int(input('Nhập số nguyên bất kì '))"
      ],
      "metadata": {
        "id": "dzvJecYsHCQL",
        "outputId": "20126b91-99bf-40ec-a8f1-ee6070727e67",
        "colab": {
          "base_uri": "https://localhost:8080/",
          "height": 182
        }
      },
      "execution_count": 7,
      "outputs": [
        {
          "name": "stdout",
          "output_type": "stream",
          "text": [
            "Nhập số nguyên bất kì hello\n"
          ]
        },
        {
          "output_type": "error",
          "ename": "ValueError",
          "evalue": "ignored",
          "traceback": [
            "\u001b[0;31m---------------------------------------------------------------------------\u001b[0m",
            "\u001b[0;31mValueError\u001b[0m                                Traceback (most recent call last)",
            "\u001b[0;32m<ipython-input-7-42030052c50a>\u001b[0m in \u001b[0;36m<module>\u001b[0;34m()\u001b[0m\n\u001b[0;32m----> 1\u001b[0;31m \u001b[0mx\u001b[0m \u001b[0;34m=\u001b[0m \u001b[0mint\u001b[0m\u001b[0;34m(\u001b[0m\u001b[0minput\u001b[0m\u001b[0;34m(\u001b[0m\u001b[0;34m'Nhập số nguyên bất kì '\u001b[0m\u001b[0;34m)\u001b[0m\u001b[0;34m)\u001b[0m\u001b[0;34m\u001b[0m\u001b[0;34m\u001b[0m\u001b[0m\n\u001b[0m",
            "\u001b[0;31mValueError\u001b[0m: invalid literal for int() with base 10: 'hello'"
          ]
        }
      ]
    },
    {
      "cell_type": "code",
      "source": [
        "while True:\n",
        "  try: \n",
        "    x= int(input('Nhập số: '))\n",
        "    break \n",
        "  except ValueError:\n",
        "    print('Vui lòng nhập đúng với yêu cầu ')"
      ],
      "metadata": {
        "id": "otxqJXCKIY5b",
        "outputId": "f5eed9e5-6ffc-4694-9384-863c340fe9a2",
        "colab": {
          "base_uri": "https://localhost:8080/"
        }
      },
      "execution_count": 3,
      "outputs": [
        {
          "name": "stdout",
          "output_type": "stream",
          "text": [
            "Nhập số: 50\n"
          ]
        }
      ]
    },
    {
      "cell_type": "markdown",
      "source": [
        "Bài 4 "
      ],
      "metadata": {
        "id": "7OygQVSNIjHO"
      }
    },
    {
      "cell_type": "code",
      "source": [
        "while True:\n",
        "  try:\n",
        "    x= int(input('Vui lòng nhập số: '))\n",
        "  except ValueError  :\n",
        "    print('Số vừa nhập chưa đúng ')\n",
        "  else: \n",
        "    print('Số vừa nhập là '+ str(x))\n",
        "    break\n",
        "  finally:\n",
        "    print('Hoàn thành ')"
      ],
      "metadata": {
        "id": "viI6_rF5Iie0",
        "outputId": "a7f940e9-383a-4a65-b84a-71c33e0eb0db",
        "colab": {
          "base_uri": "https://localhost:8080/"
        }
      },
      "execution_count": 8,
      "outputs": [
        {
          "output_type": "stream",
          "name": "stdout",
          "text": [
            "Vui lòng nhập số: hello\n",
            "Số vừa nhập chưa đúng \n",
            "Hoàn thành \n",
            "Vui lòng nhập số: 10\n",
            "Số vừa nhập là10\n",
            "Hoàn thành \n"
          ]
        }
      ]
    },
    {
      "cell_type": "markdown",
      "source": [
        "Bài 5 "
      ],
      "metadata": {
        "id": "tpogmVmXKs00"
      }
    },
    {
      "cell_type": "code",
      "source": [
        "def frange (batdau, ketthuc, buocnhay ):\n",
        "  day_kq= []\n",
        "  while batdau < ketthuc:\n",
        "    day_kq.append(batdau)\n",
        "    batdau=batdau + buocnhay\n",
        "  return day_kq"
      ],
      "metadata": {
        "id": "LPm8lbsMKwY2"
      },
      "execution_count": 12,
      "outputs": []
    },
    {
      "cell_type": "code",
      "source": [
        "tu0den2 = frange(0,2,0.2 )\n",
        "tu0den2 "
      ],
      "metadata": {
        "id": "8jnvs6bvNuL3",
        "outputId": "3c8fb23c-b9d4-4474-bacf-9c5919a11f4a",
        "colab": {
          "base_uri": "https://localhost:8080/"
        }
      },
      "execution_count": 14,
      "outputs": [
        {
          "output_type": "execute_result",
          "data": {
            "text/plain": [
              "[0,\n",
              " 0.2,\n",
              " 0.4,\n",
              " 0.6000000000000001,\n",
              " 0.8,\n",
              " 1.0,\n",
              " 1.2,\n",
              " 1.4,\n",
              " 1.5999999999999999,\n",
              " 1.7999999999999998,\n",
              " 1.9999999999999998]"
            ]
          },
          "metadata": {},
          "execution_count": 14
        }
      ]
    },
    {
      "cell_type": "markdown",
      "source": [
        "bài 6 "
      ],
      "metadata": {
        "id": "wzlVwkekMhCi"
      }
    },
    {
      "cell_type": "code",
      "source": [
        "from matplotlib import pyplot as plt \n",
        "import math\n",
        "def draw_graph(x,y): \n",
        "  plt.plot(x,y)\n",
        "  plt.xlabel('Truc X')\n",
        "  plt.ylabel('Truc Y')\n",
        "  plt.title('Do thi bai toan nem qua bong ')\n",
        "def frange(start, final, interval ):\n",
        "  numbers=[]\n",
        "  while start < final:\n",
        "    numbers.append (start)\n",
        "    start = start + interval \n",
        "    return numbers \n",
        "    "
      ],
      "metadata": {
        "id": "bnaYkPEzMgme"
      },
      "execution_count": 15,
      "outputs": []
    },
    {
      "cell_type": "markdown",
      "source": [
        "Bài 7"
      ],
      "metadata": {
        "id": "6pE5W08MQ3dx"
      }
    },
    {
      "cell_type": "code",
      "source": [
        "if_name_ == '_main_':\n",
        "ds_vtoc = [20 , 40 , 60 ]\n",
        "goc_bandau = 45 #45 độ\n",
        "for v in ds_vtoc:\n",
        "  draw_trajectory(v, goc_bandau )\n",
        "  "
      ],
      "metadata": {
        "id": "l46R7dgSRtqv",
        "outputId": "794603c8-b6df-49d6-8178-b79137e41d9b",
        "colab": {
          "base_uri": "https://localhost:8080/",
          "height": 131
        }
      },
      "execution_count": 16,
      "outputs": [
        {
          "output_type": "error",
          "ename": "SyntaxError",
          "evalue": "ignored",
          "traceback": [
            "\u001b[0;36m  File \u001b[0;32m\"<ipython-input-16-bf02dac95f52>\"\u001b[0;36m, line \u001b[0;32m1\u001b[0m\n\u001b[0;31m    if_name_ == '_main_':\u001b[0m\n\u001b[0m                         ^\u001b[0m\n\u001b[0;31mSyntaxError\u001b[0m\u001b[0;31m:\u001b[0m invalid syntax\n"
          ]
        }
      ]
    }
  ]
}