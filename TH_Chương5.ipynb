{
  "nbformat": 4,
  "nbformat_minor": 0,
  "metadata": {
    "colab": {
      "name": "TH_Chương5",
      "provenance": [],
      "authorship_tag": "ABX9TyN6JzD+nIWTEigInm6aWcpR",
      "include_colab_link": true
    },
    "kernelspec": {
      "name": "python3",
      "display_name": "Python 3"
    },
    "language_info": {
      "name": "python"
    }
  },
  "cells": [
    {
      "cell_type": "markdown",
      "metadata": {
        "id": "view-in-github",
        "colab_type": "text"
      },
      "source": [
        "<a href=\"https://colab.research.google.com/github/NguyenDucHuyCNTT31/THToanCaoCap/blob/main/TH_Ch%C6%B0%C6%A1ng5.ipynb\" target=\"_parent\"><img src=\"https://colab.research.google.com/assets/colab-badge.svg\" alt=\"Open In Colab\"/></a>"
      ]
    },
    {
      "cell_type": "markdown",
      "source": [
        "Bài TH1"
      ],
      "metadata": {
        "id": "rfOxbjScJ_pq"
      }
    },
    {
      "cell_type": "code",
      "execution_count": 29,
      "metadata": {
        "colab": {
          "base_uri": "https://localhost:8080/"
        },
        "id": "_2R6TkZR-t-_",
        "outputId": "4d40e657-108e-42eb-8f27-a49d91d3cc09"
      },
      "outputs": [
        {
          "output_type": "stream",
          "name": "stdout",
          "text": [
            "3\n"
          ]
        }
      ],
      "source": [
        "x =3 \n",
        "print(x)\n"
      ]
    },
    {
      "cell_type": "code",
      "source": [
        "import math\n",
        "x= math.sqrt(x+1)\n",
        "print(x)"
      ],
      "metadata": {
        "colab": {
          "base_uri": "https://localhost:8080/"
        },
        "id": "eXgsjJd-KPJU",
        "outputId": "52f72741-e153-4445-e695-3dff0447d206"
      },
      "execution_count": 32,
      "outputs": [
        {
          "output_type": "stream",
          "name": "stdout",
          "text": [
            "2.0\n"
          ]
        }
      ]
    },
    {
      "cell_type": "markdown",
      "source": [
        "Bài TH2 "
      ],
      "metadata": {
        "id": "I9xDygAsKm54"
      }
    },
    {
      "cell_type": "code",
      "source": [
        " import math\n",
        " x=10\n",
        " lap = 1\n",
        " while (x!= math.sqrt(x+1)):\n",
        "   x = math.sqrt(x+1)\n",
        "   lap = lap + 1\n",
        "print(lap)\n",
        "print(x)\n"
      ],
      "metadata": {
        "colab": {
          "base_uri": "https://localhost:8080/"
        },
        "id": "dhyGIRbiKo37",
        "outputId": "b0e23162-1fad-4364-ae34-c27971c5c2dc"
      },
      "execution_count": 34,
      "outputs": [
        {
          "output_type": "stream",
          "name": "stdout",
          "text": [
            "34\n",
            "1.618033988749895\n"
          ]
        }
      ]
    },
    {
      "cell_type": "markdown",
      "source": [
        "Bài Th3"
      ],
      "metadata": {
        "id": "3XoamR5hLSLK"
      }
    },
    {
      "cell_type": "code",
      "source": [
        "import sympy as sp\n",
        "from sympy import Symbol\n",
        "x= Symbol('x')\n",
        "sp.solve( x- sp.sqrt(x+1),x)\n",
        "\n"
      ],
      "metadata": {
        "colab": {
          "base_uri": "https://localhost:8080/"
        },
        "id": "X1jhf6jlLT7f",
        "outputId": "322131c4-c81d-459a-9c52-e51a16c8a386"
      },
      "execution_count": 9,
      "outputs": [
        {
          "output_type": "execute_result",
          "data": {
            "text/plain": [
              "[1/2 + sqrt(5)/2]"
            ]
          },
          "metadata": {},
          "execution_count": 9
        }
      ]
    },
    {
      "cell_type": "markdown",
      "source": [
        "Bài TH 4"
      ],
      "metadata": {
        "id": "XYHnGGb7MFoj"
      }
    },
    {
      "cell_type": "code",
      "source": [
        "import numpy as np\n",
        "v1 = np .array([1,2,3])\n",
        "v2= np. array([2,1,0])\n",
        "v3 = v1 + v2\n",
        "v3\n"
      ],
      "metadata": {
        "colab": {
          "base_uri": "https://localhost:8080/"
        },
        "id": "EtDW5pP1MHZP",
        "outputId": "534c42a0-1b5d-45ca-e15f-607709175eae"
      },
      "execution_count": 16,
      "outputs": [
        {
          "output_type": "execute_result",
          "data": {
            "text/plain": [
              "array([3, 3, 3])"
            ]
          },
          "metadata": {},
          "execution_count": 16
        }
      ]
    },
    {
      "cell_type": "code",
      "source": [
        "3*v1 +2*v2"
      ],
      "metadata": {
        "colab": {
          "base_uri": "https://localhost:8080/"
        },
        "id": "fV377kLlNQdd",
        "outputId": "f3bfc816-8489-44d2-8327-4ed0a00903d3"
      },
      "execution_count": 17,
      "outputs": [
        {
          "output_type": "execute_result",
          "data": {
            "text/plain": [
              "array([7, 8, 9])"
            ]
          },
          "metadata": {},
          "execution_count": 17
        }
      ]
    },
    {
      "cell_type": "code",
      "source": [
        "v4 =  np.hstack([v1,v2])\n",
        "v4"
      ],
      "metadata": {
        "colab": {
          "base_uri": "https://localhost:8080/"
        },
        "id": "aaHEbqteNj2N",
        "outputId": "0d8f9693-4d6d-47f7-e25b-5c70de2b92be"
      },
      "execution_count": 20,
      "outputs": [
        {
          "output_type": "execute_result",
          "data": {
            "text/plain": [
              "array([1, 2, 3, 2, 1, 0])"
            ]
          },
          "metadata": {},
          "execution_count": 20
        }
      ]
    },
    {
      "cell_type": "code",
      "source": [
        "v5 = np.dot(v1,v2)\n",
        "v5"
      ],
      "metadata": {
        "colab": {
          "base_uri": "https://localhost:8080/"
        },
        "id": "7NBuWvicN0Rb",
        "outputId": "6318360e-0c71-449f-c505-945bbacfca66"
      },
      "execution_count": 21,
      "outputs": [
        {
          "output_type": "execute_result",
          "data": {
            "text/plain": [
              "4"
            ]
          },
          "metadata": {},
          "execution_count": 21
        }
      ]
    },
    {
      "cell_type": "code",
      "source": [
        "angles= np.linspace(0, np.pi/2.5)\n",
        "angles"
      ],
      "metadata": {
        "colab": {
          "base_uri": "https://localhost:8080/"
        },
        "id": "hKAY45sKOBPS",
        "outputId": "77a3cc8d-d290-4c78-87da-f6270f0c6073"
      },
      "execution_count": 23,
      "outputs": [
        {
          "output_type": "execute_result",
          "data": {
            "text/plain": [
              "array([0.        , 0.02564565, 0.05129131, 0.07693696, 0.10258262,\n",
              "       0.12822827, 0.15387393, 0.17951958, 0.20516523, 0.23081089,\n",
              "       0.25645654, 0.2821022 , 0.30774785, 0.33339351, 0.35903916,\n",
              "       0.38468481, 0.41033047, 0.43597612, 0.46162178, 0.48726743,\n",
              "       0.51291309, 0.53855874, 0.56420439, 0.58985005, 0.6154957 ,\n",
              "       0.64114136, 0.66678701, 0.69243267, 0.71807832, 0.74372398,\n",
              "       0.76936963, 0.79501528, 0.82066094, 0.84630659, 0.87195225,\n",
              "       0.8975979 , 0.92324356, 0.94888921, 0.97453486, 1.00018052,\n",
              "       1.02582617, 1.05147183, 1.07711748, 1.10276314, 1.12840879,\n",
              "       1.15405444, 1.1797001 , 1.20534575, 1.23099141, 1.25663706])"
            ]
          },
          "metadata": {},
          "execution_count": 23
        }
      ]
    },
    {
      "cell_type": "code",
      "source": [
        "\n",
        "from sympy import sin as sysin\n",
        "angles = np . linspace(0, np.pi/2.5)\n",
        "sinangle = np.zeros(5)\n",
        "len(angles)\n",
        "for i in range(len(angles)):\n",
        "  sinangle[i]= sysin(angles[i])\n",
        "\n",
        "\n"
      ],
      "metadata": {
        "colab": {
          "base_uri": "https://localhost:8080/",
          "height": 235
        },
        "id": "PBJ5I_thOgPr",
        "outputId": "42ce6b29-3187-4a0f-9a98-790c11d490b5"
      },
      "execution_count": 38,
      "outputs": [
        {
          "output_type": "error",
          "ename": "IndexError",
          "evalue": "ignored",
          "traceback": [
            "\u001b[0;31m---------------------------------------------------------------------------\u001b[0m",
            "\u001b[0;31mIndexError\u001b[0m                                Traceback (most recent call last)",
            "\u001b[0;32m<ipython-input-38-f2f620606837>\u001b[0m in \u001b[0;36m<module>\u001b[0;34m()\u001b[0m\n\u001b[1;32m      5\u001b[0m \u001b[0mlen\u001b[0m\u001b[0;34m(\u001b[0m\u001b[0mangles\u001b[0m\u001b[0;34m)\u001b[0m\u001b[0;34m\u001b[0m\u001b[0;34m\u001b[0m\u001b[0m\n\u001b[1;32m      6\u001b[0m \u001b[0;32mfor\u001b[0m \u001b[0mi\u001b[0m \u001b[0;32min\u001b[0m \u001b[0mrange\u001b[0m\u001b[0;34m(\u001b[0m\u001b[0mlen\u001b[0m\u001b[0;34m(\u001b[0m\u001b[0mangles\u001b[0m\u001b[0;34m)\u001b[0m\u001b[0;34m)\u001b[0m\u001b[0;34m:\u001b[0m\u001b[0;34m\u001b[0m\u001b[0;34m\u001b[0m\u001b[0m\n\u001b[0;32m----> 7\u001b[0;31m   \u001b[0msinangle\u001b[0m\u001b[0;34m[\u001b[0m\u001b[0mi\u001b[0m\u001b[0;34m]\u001b[0m\u001b[0;34m=\u001b[0m \u001b[0msysin\u001b[0m\u001b[0;34m(\u001b[0m\u001b[0mangles\u001b[0m\u001b[0;34m[\u001b[0m\u001b[0mi\u001b[0m\u001b[0;34m]\u001b[0m\u001b[0;34m)\u001b[0m\u001b[0;34m\u001b[0m\u001b[0;34m\u001b[0m\u001b[0m\n\u001b[0m\u001b[1;32m      8\u001b[0m \u001b[0;34m\u001b[0m\u001b[0m\n\u001b[1;32m      9\u001b[0m \u001b[0;34m\u001b[0m\u001b[0m\n",
            "\u001b[0;31mIndexError\u001b[0m: index 5 is out of bounds for axis 0 with size 5"
          ]
        }
      ]
    }
  ]
}