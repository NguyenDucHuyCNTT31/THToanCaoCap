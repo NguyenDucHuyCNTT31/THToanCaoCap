{
  "nbformat": 4,
  "nbformat_minor": 0,
  "metadata": {
    "colab": {
      "name": "Bài Thi",
      "provenance": [],
      "collapsed_sections": [],
      "authorship_tag": "ABX9TyMD1XDIaQ+SdrYtVx/aAzly",
      "include_colab_link": true
    },
    "kernelspec": {
      "name": "python3",
      "display_name": "Python 3"
    },
    "language_info": {
      "name": "python"
    }
  },
  "cells": [
    {
      "cell_type": "markdown",
      "metadata": {
        "id": "view-in-github",
        "colab_type": "text"
      },
      "source": [
        "<a href=\"https://colab.research.google.com/github/NguyenDucHuyCNTT31/THToanCaoCap/blob/main/B%C3%A0i_Thi.ipynb\" target=\"_parent\"><img src=\"https://colab.research.google.com/assets/colab-badge.svg\" alt=\"Open In Colab\"/></a>"
      ]
    },
    {
      "cell_type": "markdown",
      "source": [
        "Bài 3 "
      ],
      "metadata": {
        "id": "e9t0YpphWMq5"
      }
    },
    {
      "cell_type": "markdown",
      "source": [
        "Câu thứ nhất:"
      ],
      "metadata": {
        "id": "GAZHj1QhcNGa"
      }
    },
    {
      "cell_type": "code",
      "source": [
        "from sympy import Symbol,sin \n",
        "y=Limit(x**2* sin(x)/x,x,2)"
      ],
      "metadata": {
        "id": "0OulF4kianEv"
      },
      "execution_count": 66,
      "outputs": []
    },
    {
      "cell_type": "code",
      "source": [
        "y.doit( )"
      ],
      "metadata": {
        "colab": {
          "base_uri": "https://localhost:8080/",
          "height": 38
        },
        "id": "encTs7ydbO4y",
        "outputId": "712aff5a-dbe6-48df-a016-3d379e3448fb"
      },
      "execution_count": 67,
      "outputs": [
        {
          "output_type": "execute_result",
          "data": {
            "text/plain": [
              "2*sin(2)"
            ],
            "text/latex": "$\\displaystyle 2 \\sin{\\left(2 \\right)}$"
          },
          "metadata": {},
          "execution_count": 67
        }
      ]
    },
    {
      "cell_type": "markdown",
      "source": [
        "Câu Thứ hai: "
      ],
      "metadata": {
        "id": "VBPtzSfhcPYJ"
      }
    },
    {
      "cell_type": "code",
      "source": [
        "from sympy import Symbol\n",
        "y= Limit((1+x+x**2+x**3)/(1+x),x,0,dir=\"+\")"
      ],
      "metadata": {
        "id": "D7opA1hNbeah"
      },
      "execution_count": 69,
      "outputs": []
    },
    {
      "cell_type": "code",
      "source": [
        "y.doit()"
      ],
      "metadata": {
        "colab": {
          "base_uri": "https://localhost:8080/",
          "height": 38
        },
        "id": "mA3sycIlb66-",
        "outputId": "50979da6-197c-47fc-bcac-d948d6ab0bd2"
      },
      "execution_count": 70,
      "outputs": [
        {
          "output_type": "execute_result",
          "data": {
            "text/plain": [
              "1"
            ],
            "text/latex": "$\\displaystyle 1$"
          },
          "metadata": {},
          "execution_count": 70
        }
      ]
    },
    {
      "cell_type": "markdown",
      "source": [
        "Bài 2 "
      ],
      "metadata": {
        "id": "SrxacaQcWPDZ"
      }
    },
    {
      "cell_type": "markdown",
      "source": [
        "câu 2: "
      ],
      "metadata": {
        "id": "1lA263dOYDCC"
      }
    },
    {
      "cell_type": "code",
      "source": [
        "from sympy import Derivative, Symbol \n",
        "x = Symbol ('x')\n",
        "y = (2*x-1)/ (x+2)\n",
        "Derivative(y,x).doit( )\n"
      ],
      "metadata": {
        "colab": {
          "base_uri": "https://localhost:8080/",
          "height": 58
        },
        "id": "rFe7YeRWWQAu",
        "outputId": "70224e19-8bf2-4f2f-c87b-f1608e1b1d7f"
      },
      "execution_count": null,
      "outputs": [
        {
          "output_type": "execute_result",
          "data": {
            "text/plain": [
              "2/(x + 2) - (2*x - 1)/(x + 2)**2"
            ],
            "text/latex": "$\\displaystyle \\frac{2}{x + 2} - \\frac{2 x - 1}{\\left(x + 2\\right)^{2}}$"
          },
          "metadata": {},
          "execution_count": 50
        }
      ]
    },
    {
      "cell_type": "markdown",
      "source": [
        "Câu 1 "
      ],
      "metadata": {
        "id": "PgJAjDaYYGR2"
      }
    },
    {
      "cell_type": "code",
      "source": [
        "from sympy import Derivative, Symbol \n",
        "x = Symbol ('x')\n",
        "y = (x**2 + 3*x +3  ) / (x+1)\n",
        "ketqua= Derivative(y,x  ).doit()\n",
        "ketqua "
      ],
      "metadata": {
        "colab": {
          "base_uri": "https://localhost:8080/",
          "height": 61
        },
        "id": "BfJs3RX2Xz15",
        "outputId": "84f3122b-188b-4d03-ff6a-75b31e53ad2d"
      },
      "execution_count": null,
      "outputs": [
        {
          "output_type": "execute_result",
          "data": {
            "text/plain": [
              "(2*x + 3)/(x + 1) - (x**2 + 3*x + 3)/(x + 1)**2"
            ],
            "text/latex": "$\\displaystyle \\frac{2 x + 3}{x + 1} - \\frac{x^{2} + 3 x + 3}{\\left(x + 1\\right)^{2}}$"
          },
          "metadata": {},
          "execution_count": 49
        }
      ]
    },
    {
      "cell_type": "markdown",
      "source": [
        "Bài 1 "
      ],
      "metadata": {
        "id": "I6Ovt1R4YPl7"
      }
    },
    {
      "cell_type": "code",
      "source": [
        "from sympy import Integral, Symbol\n",
        "x = Symbol('x')\n",
        "y = (2*x-1)*(x+1 )\n",
        "Integral(y,(x,0,1 )).doit()\n"
      ],
      "metadata": {
        "colab": {
          "base_uri": "https://localhost:8080/",
          "height": 51
        },
        "id": "88XHZ4GMeD0e",
        "outputId": "52581256-7bd0-4fe2-c2c1-fe875fe98dc9"
      },
      "execution_count": null,
      "outputs": [
        {
          "output_type": "execute_result",
          "data": {
            "text/plain": [
              "1/6"
            ],
            "text/latex": "$\\displaystyle \\frac{1}{6}$"
          },
          "metadata": {},
          "execution_count": 62
        }
      ]
    },
    {
      "cell_type": "code",
      "source": [
        "from sympy import Integral, Symbol\n",
        "x = Symbol('x')\n",
        "y = (2*x+1)/(x*(x+1))\n",
        "Integral(y,(x, 1,2)).doit( )"
      ],
      "metadata": {
        "colab": {
          "base_uri": "https://localhost:8080/",
          "height": 38
        },
        "id": "fZrsezyoeT5n",
        "outputId": "1c205e0f-fd91-466c-8792-2e147b2d246a"
      },
      "execution_count": null,
      "outputs": [
        {
          "output_type": "execute_result",
          "data": {
            "text/plain": [
              "-log(2) + log(6)"
            ],
            "text/latex": "$\\displaystyle - \\log{\\left(2 \\right)} + \\log{\\left(6 \\right)}$"
          },
          "metadata": {},
          "execution_count": 61
        }
      ]
    }
  ]
}